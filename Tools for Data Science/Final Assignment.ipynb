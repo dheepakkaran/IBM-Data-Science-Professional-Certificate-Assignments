{
 "cells": [
  {
   "cell_type": "markdown",
   "metadata": {},
   "source": [
    "# Final Project Submission for Data Science Essentials\n"
   ]
  },
  {
   "cell_type": "markdown",
   "metadata": {},
   "source": [
    "## Introduction  \n",
    "This notebook demonstrates the completion of exercises for the final project in Data Science Essentials. Each exercise showcases key concepts and skills related to data science.\n"
   ]
  },
  {
   "cell_type": "markdown",
   "metadata": {},
   "source": [
    "## Data Science Languages  \n",
    "1. Python  \n",
    "2. R  \n",
    "3. SQL  \n",
    "4. Julia  \n",
    "5. Java  \n",
    "6. Scala  \n",
    "7. MATLAB  \n"
   ]
  },
  {
   "cell_type": "markdown",
   "metadata": {},
   "source": [
    "## Data Science Libraries  \n",
    "- Pandas  \n",
    "- NumPy  \n",
    "- Matplotlib  \n",
    "- Seaborn  \n",
    "- Scikit-learn  \n",
    "- TensorFlow  \n",
    "- PyTorch  \n",
    "- Keras  \n"
   ]
  },
  {
   "cell_type": "markdown",
   "metadata": {},
   "source": [
    "## Data Science Tools  \n",
    "\n",
    "| Tool              | Description                           |  \n",
    "|-------------------|---------------------------------------|  \n",
    "| Jupyter Notebook  | Interactive computing environment     |  \n",
    "| RStudio           | Integrated development environment    |  \n",
    "| Apache Spark      | Big data processing engine            |  \n",
    "| Tableau           | Data visualization tool               |  \n",
    "| Microsoft Excel   | Spreadsheet software                  |  \n"
   ]
  },
  {
   "cell_type": "markdown",
   "metadata": {},
   "source": [
    "## Arithmetic Expression Examples  \n",
    "This section demonstrates examples of basic arithmetic expressions such as addition, multiplication, and division.\n"
   ]
  },
  {
   "cell_type": "code",
   "execution_count": 1,
   "metadata": {},
   "outputs": [
    {
     "data": {
      "text/plain": [
       "25"
      ]
     },
     "execution_count": 1,
     "metadata": {},
     "output_type": "execute_result"
    }
   ],
   "source": [
    "# Multiply and add numbers\n",
    "result = (5 * 3) + 10\n",
    "result\n"
   ]
  },
  {
   "cell_type": "code",
   "execution_count": 2,
   "metadata": {},
   "outputs": [
    {
     "data": {
      "text/plain": [
       "2.5"
      ]
     },
     "execution_count": 2,
     "metadata": {},
     "output_type": "execute_result"
    }
   ],
   "source": [
    "# Convert minutes to hours\n",
    "minutes = 150\n",
    "hours = minutes / 60\n",
    "hours\n"
   ]
  },
  {
   "cell_type": "markdown",
   "metadata": {},
   "source": [
    "## Objectives  \n",
    "- Understand common data science languages  \n",
    "- Learn about popular data science libraries  \n",
    "- Explore tools used in data science  \n",
    "- Demonstrate arithmetic operations  \n",
    "- Practice converting units  \n"
   ]
  },
  {
   "cell_type": "markdown",
   "metadata": {},
   "source": [
    "## Author  \n",
    "Dheepak Karan ES  \n"
   ]
  }
 ],
 "metadata": {
  "kernelspec": {
   "display_name": "base",
   "language": "python",
   "name": "python3"
  },
  "language_info": {
   "codemirror_mode": {
    "name": "ipython",
    "version": 3
   },
   "file_extension": ".py",
   "mimetype": "text/x-python",
   "name": "python",
   "nbconvert_exporter": "python",
   "pygments_lexer": "ipython3",
   "version": "3.8.5"
  }
 },
 "nbformat": 4,
 "nbformat_minor": 1
}
